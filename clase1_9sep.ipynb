{
  "nbformat": 4,
  "nbformat_minor": 0,
  "metadata": {
    "colab": {
      "provenance": [],
      "authorship_tag": "ABX9TyMu2XCxZRl8jG17I5e9HmtI",
      "include_colab_link": true
    },
    "kernelspec": {
      "name": "python3",
      "display_name": "Python 3"
    },
    "language_info": {
      "name": "python"
    }
  },
  "cells": [
    {
      "cell_type": "markdown",
      "metadata": {
        "id": "view-in-github",
        "colab_type": "text"
      },
      "source": [
        "<a href=\"https://colab.research.google.com/github/MirAndaSanchEzz/Apuntes/blob/main/clase1_9sep.ipynb\" target=\"_parent\"><img src=\"https://colab.research.google.com/assets/colab-badge.svg\" alt=\"Open In Colab\"/></a>"
      ]
    },
    {
      "cell_type": "markdown",
      "source": [
        "# Palabras Reservadas\n",
        "\n",
        "Las palabras reservadas (keynowords) corresponden a los nombres de las declaraciones que el interprete de Python incluye por defecto. No se deben utlizar dichas palabras para asignar nombres a otros objetos.\n",
        "\n",
        "El listado de palabras reservadas pueden ser consultado ingresando help(\"keywords\") desde la interfaz.\n",
        "\n",
        "**Ejemplo**:"
      ],
      "metadata": {
        "id": "_blL9xb69pZA"
      }
    },
    {
      "cell_type": "code",
      "source": [
        "help(\"keywords\")"
      ],
      "metadata": {
        "colab": {
          "base_uri": "https://localhost:8080/"
        },
        "id": "St3KL-OAkMlE",
        "outputId": "f9ad3091-1911-47fd-bcd0-e423328672fb"
      },
      "execution_count": null,
      "outputs": [
        {
          "output_type": "stream",
          "name": "stdout",
          "text": [
            "\n",
            "Here is a list of the Python keywords.  Enter any keyword to get more help.\n",
            "\n",
            "False               class               from                or\n",
            "None                continue            global              pass\n",
            "True                def                 if                  raise\n",
            "and                 del                 import              return\n",
            "as                  elif                in                  try\n",
            "assert              else                is                  while\n",
            "async               except              lambda              with\n",
            "await               finally             nonlocal            yield\n",
            "break               for                 not                 \n",
            "\n"
          ]
        }
      ]
    },
    {
      "cell_type": "markdown",
      "source": [
        "# El espacio de nombres (namespace).\n",
        "\n",
        "EL espacio de nombres (namespace) contiene una relacion de los objetos existentes en la memoria del sistema y los nombres a los que estan ligados.\n",
        "\n",
        "\n",
        "*   Python es un lenguaje de alto nivel en el que todos sus elementos son objetos incluyendo los tipos de datos basicos de tal forma que los terminos \"valor\" y \"objeto\" son sinonimos.\n",
        "*   Si un objeto no esta ligado al menos a un nombre, dicho objeto es desechado por un interprete.\n",
        "\n",
        "*   Si un objeto no esta ligado al menos a un nombre, dicho objeto es desechado por el interprete.\n",
        "*   Un objeto puede tener mas de un nombre.\n",
        "# El operador de asignacion =\n",
        "Para relacionar a un nombre con un objeto, se utiliza el operador = con la siguiente sintaxis:\n",
        "\n",
        "**Ejemplo:**\n",
        "\n",
        "\n",
        "\n"
      ],
      "metadata": {
        "id": "Pmm5cswy9iR-"
      }
    },
    {
      "cell_type": "code",
      "source": [
        "saludo = \"Hola Mundo\"\n",
        "print(saludo)\n",
        "num1 = 5\n",
        "print(num1)\n",
        "num2 = 10\n",
        "print(num2)"
      ],
      "metadata": {
        "colab": {
          "base_uri": "https://localhost:8080/"
        },
        "id": "q8l_q7hEomL4",
        "outputId": "c279e326-1693-41a1-c859-33b25c5579ec"
      },
      "execution_count": null,
      "outputs": [
        {
          "output_type": "stream",
          "name": "stdout",
          "text": [
            "Hola Mundo\n",
            "5\n",
            "10\n"
          ]
        }
      ]
    },
    {
      "cell_type": "code",
      "source": [
        "Num1 = 10\n",
        "print(Num1)\n",
        "Num2 = 6\n",
        "print(Num2)\n",
        "Num3 = Num1 + Num2\n",
        "print(Num3)\n",
        "Num4 = Num3 + 19\n",
        "Num4\n",
        "Mayor_Edad = True\n",
        "a = 34.56\n",
        "a\n",
        "entero, flotante, complejo, booleano = 12, 4.5, (12.3+23j), True\n",
        "print(entero)\n",
        "print(flotante)\n",
        "print(complejo)\n",
        "print(booleano)"
      ],
      "metadata": {
        "colab": {
          "base_uri": "https://localhost:8080/"
        },
        "id": "YjjU7LPq_WwS",
        "outputId": "97bbfd0a-39a7-4964-bd54-43f7c25aee2a"
      },
      "execution_count": null,
      "outputs": [
        {
          "output_type": "stream",
          "name": "stdout",
          "text": [
            "10\n",
            "6\n",
            "16\n",
            "12\n",
            "4.5\n",
            "(12.3+23j)\n",
            "True\n"
          ]
        }
      ]
    }
  ]
}